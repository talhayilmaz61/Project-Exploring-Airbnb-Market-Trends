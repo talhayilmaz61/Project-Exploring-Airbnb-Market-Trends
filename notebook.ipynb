{
 "cells": [
  {
   "cell_type": "code",
   "execution_count": 34,
   "id": "1fdc5784-479e-46cb-b05b-68439dcc94a7",
   "metadata": {
    "executionCancelledAt": null,
    "executionTime": 1515,
    "lastExecutedAt": 1730907148935,
    "lastExecutedByKernel": "5400125f-271b-4de3-b71f-3331374f5cea",
    "lastScheduledRunId": null,
    "lastSuccessfullyExecutedCode": "# Import necessary packages\nimport pandas as pd\nimport numpy as np\n\n# Begin coding here ...\n# Use as many cells as you like\n\nprice_df= pd.read_csv(\"data/airbnb_price.csv\")\nroom_type_df= pd.read_excel(\"data/airbnb_room_type.xlsx\")\nlast_review_df= pd.read_csv(\"data/airbnb_last_review.tsv\", delimiter='\\t')\n\n\n\nairbnf_df = pd.merge(price_df,room_type_df,on=\"listing_id\")\nairbnf_df = pd.merge(airbnf_df,last_review_df,on=\"listing_id\")\n\nairbnf_df['last_review']=pd.to_datetime(airbnf_df['last_review'])\n\nfirst = airbnf_df['last_review'].min()\nlast = airbnf_df['last_review'].max()\n\nairbnf_df['room_type'] = airbnf_df['room_type'].str.upper() \n\nprivate= airbnf_df[airbnf_df[\"room_type\"]=='PRIVATE ROOM'][\"room_type\"].count()\nairbnf_df[\"price\"]=airbnf_df[\"price\"].str.strip(\" dollars\").astype(\"int\")\navgprice= round(airbnf_df[\"price\"].mean(),2)\n\nreview= {\"first_reviewed\": first, \"last_reviewed\": last, \"nb_private_rooms\": private,\"avg_price\":avgprice }\n\nreview_dates = pd.DataFrame(review, index=[0])\n",
    "outputsMetadata": {
     "0": {
      "height": 269,
      "type": "stream"
     }
    }
   },
   "outputs": [],
   "source": [
    "# Import necessary packages\n",
    "import pandas as pd\n",
    "import numpy as np\n",
    "\n",
    "price_df= pd.read_csv(\"data/airbnb_price.csv\")\n",
    "room_type_df= pd.read_excel(\"data/airbnb_room_type.xlsx\")\n",
    "last_review_df= pd.read_csv(\"data/airbnb_last_review.tsv\", delimiter='\\t')\n",
    "\n",
    "\n",
    "\n",
    "airbnf_df = pd.merge(price_df,room_type_df,on=\"listing_id\")\n",
    "airbnf_df = pd.merge(airbnf_df,last_review_df,on=\"listing_id\")\n",
    "\n",
    "airbnf_df['last_review']=pd.to_datetime(airbnf_df['last_review'])\n",
    "\n",
    "first = airbnf_df['last_review'].min()\n",
    "last = airbnf_df['last_review'].max()\n",
    "\n",
    "airbnf_df['room_type'] = airbnf_df['room_type'].str.upper() \n",
    "\n",
    "private= airbnf_df[airbnf_df[\"room_type\"]=='PRIVATE ROOM'][\"room_type\"].count()\n",
    "airbnf_df[\"price\"]=airbnf_df[\"price\"].str.strip(\" dollars\").astype(\"int\")\n",
    "avgprice= round(airbnf_df[\"price\"].mean(),2)\n",
    "\n",
    "review= {\"first_reviewed\": first, \"last_reviewed\": last, \"nb_private_rooms\": private,\"avg_price\":avgprice }\n",
    "\n",
    "review_dates = pd.DataFrame(review, index=[0])\n"
   ]
  }
 ],
 "metadata": {
  "colab": {
   "name": "Welcome to DataCamp Workspaces.ipynb",
   "provenance": []
  },
  "editor": "DataLab",
  "kernelspec": {
   "display_name": "Python 3 (ipykernel)",
   "language": "python",
   "name": "python3"
  },
  "language_info": {
   "codemirror_mode": {
    "name": "ipython",
    "version": 3
   },
   "file_extension": ".py",
   "mimetype": "text/x-python",
   "name": "python",
   "nbconvert_exporter": "python",
   "pygments_lexer": "ipython3",
   "version": "3.8.10"
  }
 },
 "nbformat": 4,
 "nbformat_minor": 5
}
